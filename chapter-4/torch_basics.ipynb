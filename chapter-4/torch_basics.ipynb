{
 "cells": [
  {
   "attachments": {},
   "cell_type": "markdown",
   "metadata": {},
   "source": [
    "# Torch Basics"
   ]
  },
  {
   "cell_type": "code",
   "execution_count": 1,
   "metadata": {},
   "outputs": [
    {
     "name": "stdout",
     "output_type": "stream",
     "text": [
      "torch version is : 1.11.0+cpu\n",
      "numpy version is : 1.24.1\n",
      "pandas version is : 1.5.2\n"
     ]
    }
   ],
   "source": [
    "import os\n",
    "import sys\n",
    "import torch\n",
    "import numpy as np\n",
    "import pandas as pd\n",
    "import matplotlib.pyplot as plt\n",
    "\n",
    "print(f'torch version is : {torch.__version__}')\n",
    "print(f'numpy version is : {np.__version__}')\n",
    "print(f'pandas version is : {pd.__version__}')"
   ]
  },
  {
   "cell_type": "code",
   "execution_count": 5,
   "metadata": {},
   "outputs": [
    {
     "name": "stdout",
     "output_type": "stream",
     "text": [
      "array is : [[1 2]\n",
      " [3 4]]\n",
      "array as tensor is : tensor([[1., 2.],\n",
      "        [3., 4.]])\n",
      "array is : tensor([[1, 2],\n",
      "        [3, 4]], dtype=torch.int32)\n"
     ]
    }
   ],
   "source": [
    "arr = np.array([[1, 2], [3, 4]])\n",
    "print(f'array is : {arr}')\n",
    "\n",
    "# convert it inot tensors\n",
    "arr_t = torch.Tensor(arr)\n",
    "arr_t1 = torch.from_numpy(arr)\n",
    "print(f'array as tensor is : {arr_t}')\n",
    "print(f'array is : {arr_t1}')"
   ]
  },
  {
   "cell_type": "code",
   "execution_count": 4,
   "metadata": {},
   "outputs": [
    {
     "name": "stdout",
     "output_type": "stream",
     "text": [
      "device is : cpu\n"
     ]
    }
   ],
   "source": [
    "device = 'cuda:0' if torch.cuda.is_available() else 'cpu'\n",
    "print(f'device is : {device}')"
   ]
  },
  {
   "attachments": {},
   "cell_type": "markdown",
   "metadata": {},
   "source": [
    "## Operation in Torch"
   ]
  },
  {
   "cell_type": "code",
   "execution_count": 11,
   "metadata": {},
   "outputs": [
    {
     "name": "stdout",
     "output_type": "stream",
     "text": [
      "a => [[2. 2.]\n",
      " [2. 2.]]\n",
      "d => tensor([[2., 2.],\n",
      "        [2., 2.]])\n",
      "e is : tensor([[2., 2.],\n",
      "        [2., 2.]])\n",
      "d size is : torch.Size([2, 2]), type is : torch.FloatTensor\n"
     ]
    }
   ],
   "source": [
    "a = torch.ones(2, 2)\n",
    "b = torch.ones(2, 2)\n",
    "c = a + b\n",
    "d = torch.add(a, b)\n",
    "e = a.add(b)\n",
    "print(f'a => {c.numpy()}')\n",
    "print(f'd => {d}')\n",
    "print(f'e is : {e}')\n",
    "print(f'd size is : {d.size()}, type is : {d.type()}')"
   ]
  },
  {
   "cell_type": "code",
   "execution_count": 12,
   "metadata": {},
   "outputs": [
    {
     "name": "stdout",
     "output_type": "stream",
     "text": [
      "mean is : tensor([2., 2.]), std is : tensor([0., 0.])\n"
     ]
    }
   ],
   "source": [
    "# statistical metrics\n",
    "mean = d.mean(dim=0)\n",
    "std = d.std(dim=0)\n",
    "print(f'mean is : {mean}, std is : {std}')"
   ]
  },
  {
   "cell_type": "code",
   "execution_count": null,
   "metadata": {},
   "outputs": [],
   "source": []
  }
 ],
 "metadata": {
  "kernelspec": {
   "display_name": "base",
   "language": "python",
   "name": "python3"
  },
  "language_info": {
   "codemirror_mode": {
    "name": "ipython",
    "version": 3
   },
   "file_extension": ".py",
   "mimetype": "text/x-python",
   "name": "python",
   "nbconvert_exporter": "python",
   "pygments_lexer": "ipython3",
   "version": "3.9.15"
  },
  "orig_nbformat": 4,
  "vscode": {
   "interpreter": {
    "hash": "3865130ac3a4a180d9f67584570fac47f03c39ebaa170ceee2ff80d68fa62cc1"
   }
  }
 },
 "nbformat": 4,
 "nbformat_minor": 2
}
