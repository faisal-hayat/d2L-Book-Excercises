{
 "cells": [
  {
   "attachments": {},
   "cell_type": "markdown",
   "metadata": {},
   "source": [
    "# Data Manipulation in pytorch"
   ]
  },
  {
   "cell_type": "code",
   "execution_count": 1,
   "metadata": {},
   "outputs": [
    {
     "name": "stdout",
     "output_type": "stream",
     "text": [
      "torch version is : 1.11.0+cpu\n",
      "numpy version is : 1.24.1\n",
      "pandas version is : 1.5.2\n"
     ]
    }
   ],
   "source": [
    "import os \n",
    "import sys\n",
    "import torch \n",
    "import numpy as np\n",
    "import pandas as pd\n",
    "\n",
    "print(f'torch version is : {torch.__version__}')\n",
    "print(f'numpy version is : {np.__version__}')\n",
    "print(f'pandas version is : {pd.__version__}')"
   ]
  },
  {
   "cell_type": "code",
   "execution_count": 2,
   "metadata": {},
   "outputs": [
    {
     "name": "stdout",
     "output_type": "stream",
     "text": [
      "x is : tensor([ 0.,  1.,  2.,  3.,  4.,  5.,  6.,  7.,  8.,  9., 10., 11.])\n",
      "x shape is : torch.Size([12])\n",
      "x number of elements are : 12\n"
     ]
    }
   ],
   "source": [
    "x = torch.arange(12, dtype=torch.float32)\n",
    "print(f'x is : {x}')\n",
    "print(f'x shape is : {x.shape}')\n",
    "print(f'x number of elements are : {x.numel()}')"
   ]
  },
  {
   "cell_type": "code",
   "execution_count": 7,
   "metadata": {},
   "outputs": [
    {
     "name": "stdout",
     "output_type": "stream",
     "text": [
      "x is : tensor([[ 0.,  1.,  2.,  3.],\n",
      "        [ 4.,  5.,  6.,  7.],\n",
      "        [ 8.,  9., 10., 11.]])\n",
      "x shape is : torch.Size([3, 4])\n",
      "x number of elements are : 12\n"
     ]
    }
   ],
   "source": [
    "x_reshape = x.reshape(3, 4)\n",
    "print(f'x is : {x_reshape}')\n",
    "print(f'x shape is : {x_reshape.shape}')\n",
    "print(f'x number of elements are : {x_reshape.numel()}')"
   ]
  },
  {
   "cell_type": "code",
   "execution_count": 9,
   "metadata": {},
   "outputs": [
    {
     "name": "stdout",
     "output_type": "stream",
     "text": [
      "z is : tensor([[[0., 0., 0., 0.],\n",
      "         [0., 0., 0., 0.],\n",
      "         [0., 0., 0., 0.]],\n",
      "\n",
      "        [[0., 0., 0., 0.],\n",
      "         [0., 0., 0., 0.],\n",
      "         [0., 0., 0., 0.]]])\n"
     ]
    }
   ],
   "source": [
    "# Creaet zeros \n",
    "z = torch.zeros((2, 3, 4))\n",
    "print(f'z is : {z}')"
   ]
  },
  {
   "cell_type": "code",
   "execution_count": 10,
   "metadata": {},
   "outputs": [
    {
     "name": "stdout",
     "output_type": "stream",
     "text": [
      "random numbers are : tensor([[-0.3421,  0.3083, -0.5999, -1.4017],\n",
      "        [-1.1930,  0.0398,  0.5796,  0.4947],\n",
      "        [ 1.2357, -0.4335, -1.3208, -0.5682]])\n"
     ]
    }
   ],
   "source": [
    "# Generate random numbers \n",
    "n = torch.randn(3, 4)\n",
    "print(f'random numbers are : {n}')"
   ]
  },
  {
   "cell_type": "code",
   "execution_count": 11,
   "metadata": {},
   "outputs": [
    {
     "name": "stdout",
     "output_type": "stream",
     "text": [
      "norm is : 2.8851895332336426\n"
     ]
    }
   ],
   "source": [
    "u = torch.norm(n)\n",
    "print(f'norm is : {u}')"
   ]
  },
  {
   "cell_type": "code",
   "execution_count": null,
   "metadata": {},
   "outputs": [],
   "source": []
  }
 ],
 "metadata": {
  "kernelspec": {
   "display_name": "base",
   "language": "python",
   "name": "python3"
  },
  "language_info": {
   "codemirror_mode": {
    "name": "ipython",
    "version": 3
   },
   "file_extension": ".py",
   "mimetype": "text/x-python",
   "name": "python",
   "nbconvert_exporter": "python",
   "pygments_lexer": "ipython3",
   "version": "3.9.15"
  },
  "orig_nbformat": 4,
  "vscode": {
   "interpreter": {
    "hash": "3865130ac3a4a180d9f67584570fac47f03c39ebaa170ceee2ff80d68fa62cc1"
   }
  }
 },
 "nbformat": 4,
 "nbformat_minor": 2
}
